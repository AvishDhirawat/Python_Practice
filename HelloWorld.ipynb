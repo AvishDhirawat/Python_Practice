{
 "cells": [
  {
   "cell_type": "code",
   "execution_count": 1,
   "metadata": {},
   "outputs": [],
   "source": [
    "import sklearn"
   ]
  },
  {
   "cell_type": "code",
   "execution_count": 7,
   "metadata": {},
   "outputs": [
    {
     "name": "stdout",
     "output_type": "stream",
     "text": [
      "['orange']\n"
     ]
    }
   ],
   "source": [
    "from sklearn import tree\n",
    "features=[[140,1],[130,1],[150,0],[170,0]]\n",
    "lables=[\"apple\",\"apple\",\"orange\",\"orange\"]\n",
    "clf=tree.DecisionTreeClassifier()\n",
    "clf=clf.fit(features,lables)\n",
    "print(clf.predict([[210,0]]))"
   ]
  },
  {
   "cell_type": "code",
   "execution_count": 11,
   "metadata": {},
   "outputs": [
    {
     "name": "stdout",
     "output_type": "stream",
     "text": [
      "['Minivan']\n"
     ]
    }
   ],
   "source": [
    "features=[[300,2],[450,2],[200,8],[150,9]]\n",
    "lables=[\"Sports-Car\",\"Sports-Car\",\"Minivan\",\"Minivan\"]\n",
    "clf=tree.DecisionTreeClassifier()\n",
    "clf=clf.fit(features,lables)\n",
    "print(clf.predict([[100,5]]))"
   ]
  },
  {
   "cell_type": "code",
   "execution_count": null,
   "metadata": {},
   "outputs": [],
   "source": []
  }
 ],
 "metadata": {
  "kernelspec": {
   "display_name": "Python 3",
   "language": "python",
   "name": "python3"
  },
  "language_info": {
   "codemirror_mode": {
    "name": "ipython",
    "version": 3
   },
   "file_extension": ".py",
   "mimetype": "text/x-python",
   "name": "python",
   "nbconvert_exporter": "python",
   "pygments_lexer": "ipython3",
   "version": "3.7.1"
  }
 },
 "nbformat": 4,
 "nbformat_minor": 2
}
