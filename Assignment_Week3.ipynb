{
 "cells": [
  {
   "cell_type": "code",
   "execution_count": 35,
   "metadata": {},
   "outputs": [
    {
     "name": "stdout",
     "output_type": "stream",
     "text": [
      "23 44 89 99 99 76 2 2 4\n",
      "[2, 2, 4, 23, 44, 76, 89, 99, 99]\n",
      "89 4"
     ]
    }
   ],
   "source": [
    "a = list(map(int,input().split()))\n",
    "# print(a)\n",
    "a.sort()\n",
    "print(a)\n",
    "n = len(a)\n",
    "if (max(a)==a[n-2] and min(a)==a[1]):\n",
    "    print(a[n-3],a[2],end=\"\")\n",
    "elif (min(a) == a[1]):\n",
    "    print(a[n-2],a[2],end=\"\")\n",
    "elif (max(a) == a[1]):\n",
    "    print(a[n-3],a[1],end=\"\")\n",
    "else:\n",
    "    print(a[n-2],a[1],end=\"\")"
   ]
  },
  {
   "cell_type": "code",
   "execution_count": 37,
   "metadata": {},
   "outputs": [
    {
     "name": "stdout",
     "output_type": "stream",
     "text": [
      "34 232 12 89 65 44 5 10 23 54\n",
      "34 232 12 89 44 23 54 "
     ]
    }
   ],
   "source": [
    "a = list(map(int,input().split()))\n",
    "for i in range(len(a)):\n",
    "    if(a[i]%5!=0):\n",
    "        print(a[i],end = \" \")"
   ]
  },
  {
   "cell_type": "code",
   "execution_count": 39,
   "metadata": {},
   "outputs": [
    {
     "name": "stdout",
     "output_type": "stream",
     "text": [
      "12 232 12 21 34\n",
      "12 232 12 21 34"
     ]
    }
   ],
   "source": [
    "a = list(map(int,input().split()))\n",
    "b = []\n",
    "for i in range(len(a)):\n",
    "    if(a[i]%5!=0):\n",
    "        b.append(a[i])\n",
    "for i in range(len(b)):\n",
    "    if(i==len(b)-1):\n",
    "        print(b[i],end=\"\")\n",
    "    else:\n",
    "        print(b[i],end=\" \")"
   ]
  },
  {
   "cell_type": "code",
   "execution_count": 42,
   "metadata": {},
   "outputs": [
    {
     "name": "stdout",
     "output_type": "stream",
     "text": [
      "0011\n",
      "['0', '0', '1', '1']\n",
      "NO"
     ]
    }
   ],
   "source": [
    "x = list(input())\n",
    "print(x)\n",
    "if(x.count(\"0\")==1 or x.count(\"1\")==1):\n",
    "    print(\"YES\",end=\"\")\n",
    "else:\n",
    "    print(\"NO\",end=\"\")"
   ]
  },
  {
   "cell_type": "code",
   "execution_count": null,
   "metadata": {},
   "outputs": [],
   "source": []
  }
 ],
 "metadata": {
  "kernelspec": {
   "display_name": "Python 3",
   "language": "python",
   "name": "python3"
  },
  "language_info": {
   "codemirror_mode": {
    "name": "ipython",
    "version": 3
   },
   "file_extension": ".py",
   "mimetype": "text/x-python",
   "name": "python",
   "nbconvert_exporter": "python",
   "pygments_lexer": "ipython3",
   "version": "3.7.3"
  }
 },
 "nbformat": 4,
 "nbformat_minor": 2
}
