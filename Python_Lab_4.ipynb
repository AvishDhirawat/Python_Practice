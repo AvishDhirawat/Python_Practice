{
 "cells": [
  {
   "cell_type": "code",
   "execution_count": 1,
   "metadata": {},
   "outputs": [],
   "source": [
    "#1. WAP to interchange first and last element in a list\n",
    "#2. Find any 2 element in a list\n",
    "#3. Find Nth largest and Nth Smallest element in a list\n",
    "#4. WAF that accepts two positive numbers x and y\n",
    "# \tList 1 - odd Numbers\n",
    "# \tList 2 - Even Numbers\n",
    "#5. WAF to Check Entered List is Palindrome or not\n",
    "#6. WAF to reverse elementof List without using Slicing and reverse function\n",
    "#7. Remove Duplicates from a list"
   ]
  },
  {
   "cell_type": "code",
   "execution_count": 7,
   "metadata": {},
   "outputs": [
    {
     "name": "stdout",
     "output_type": "stream",
     "text": [
      "Enter Elements of List : 2 34 54 11 22\n"
     ]
    }
   ],
   "source": [
    "print(\"Enter Elements of List : \",end=\"\")\n",
    "a=list(map(int,input().split()))"
   ]
  },
  {
   "cell_type": "code",
   "execution_count": 13,
   "metadata": {},
   "outputs": [
    {
     "name": "stdout",
     "output_type": "stream",
     "text": [
      "First Element :  2\n",
      "Last Element :  22\n"
     ]
    }
   ],
   "source": [
    "#Ques 1\n",
    "print(\"First Element : \",a[0])\n",
    "print(\"Last Element : \",a[len(a)-1])"
   ]
  },
  {
   "cell_type": "code",
   "execution_count": 14,
   "metadata": {},
   "outputs": [
    {
     "name": "stdout",
     "output_type": "stream",
     "text": [
      "Enter Two index to be Swapped : 3 4\n"
     ]
    }
   ],
   "source": [
    "#Ques 2\n",
    "e1,e2=map(int,input(\"Enter Two index to be Swapped : \").split())"
   ]
  },
  {
   "cell_type": "code",
   "execution_count": 18,
   "metadata": {},
   "outputs": [
    {
     "name": "stdout",
     "output_type": "stream",
     "text": [
      "[2, 34, 54, 22, 11]\n"
     ]
    }
   ],
   "source": [
    "a[e1],a[e2]=a[e2],a[e1]\n",
    "print(a)"
   ]
  },
  {
   "cell_type": "code",
   "execution_count": 30,
   "metadata": {},
   "outputs": [
    {
     "name": "stdout",
     "output_type": "stream",
     "text": [
      "Sorted List :  [2, 11, 22, 34, 54]\n",
      "Enter the nth Numbers for both Largest and Smallest Number : 2 3\n"
     ]
    }
   ],
   "source": [
    "#Ques 3\n",
    "n=len(a)\n",
    "a.sort()\n",
    "print(\"Sorted List : \",a)\n",
    "n1,n2=map(int,input(\"Enter the nth Numbers for both Largest and Smallest Number : \").split())"
   ]
  },
  {
   "cell_type": "code",
   "execution_count": 31,
   "metadata": {},
   "outputs": [
    {
     "name": "stdout",
     "output_type": "stream",
     "text": [
      "The 2 Largest Number is 34\n",
      "The 3 Smallest Number is 22\n"
     ]
    }
   ],
   "source": [
    "print(\"The {} Largest Number is {}\".format(n1,a[n-n1]))\n",
    "print(\"The {} Smallest Number is {}\".format(n2,a[n2-1]))"
   ]
  },
  {
   "cell_type": "code",
   "execution_count": 67,
   "metadata": {},
   "outputs": [
    {
     "name": "stdout",
     "output_type": "stream",
     "text": [
      "List1 for Odd Numbers\n",
      "List2 for Even Numbers\n"
     ]
    }
   ],
   "source": [
    "#Ques 4\n",
    "list1=[]\n",
    "list2=[]\n",
    "print(\"List1 for Odd Numbers\\nList2 for Even Numbers\")"
   ]
  },
  {
   "cell_type": "code",
   "execution_count": 69,
   "metadata": {},
   "outputs": [],
   "source": [
    "def odd_even_list(list1,list2):\n",
    "    list1.clear()\n",
    "    list2.clear()\n",
    "    x,y=map(int,input(\"Enter the Value of 'x' and 'y' : \").split())\n",
    "    for i in range(x,y+1):\n",
    "        if(i%2!=0):\n",
    "            list1.append(i)\n",
    "        else:\n",
    "            list2.append(i)\n",
    "#     if(x%2==0):\n",
    "#         list2.append(x)\n",
    "#     else:\n",
    "#         list1.append(x)\n",
    "#     if(y%2==0):\n",
    "#         list2.append(y)\n",
    "#     else:\n",
    "#         list1.append(y)\n",
    "    print(\"List1 = {}\\nList2 = {}\".format(list1,list2))"
   ]
  },
  {
   "cell_type": "code",
   "execution_count": 70,
   "metadata": {},
   "outputs": [
    {
     "name": "stdout",
     "output_type": "stream",
     "text": [
      "Enter the Value of 'x' and 'y' : 23 42\n",
      "List1 = [23, 25, 27, 29, 31, 33, 35, 37, 39, 41]\n",
      "List2 = [24, 26, 28, 30, 32, 34, 36, 38, 40, 42]\n"
     ]
    }
   ],
   "source": [
    "odd_even_list(list1,list2)"
   ]
  },
  {
   "cell_type": "code",
   "execution_count": 104,
   "metadata": {},
   "outputs": [
    {
     "name": "stdout",
     "output_type": "stream",
     "text": [
      "Enter Elements of List : 12 44 56 56 44 12\n"
     ]
    }
   ],
   "source": [
    "#Ques 5\n",
    "b=list(map(int,input(\"Enter Elements of List : \").split()))\n",
    "len_b=len(b)"
   ]
  },
  {
   "cell_type": "code",
   "execution_count": 105,
   "metadata": {},
   "outputs": [],
   "source": [
    "import math\n",
    "def list_palin(b,len_b):\n",
    "    temp_list1=[]\n",
    "    temp_list2=[]\n",
    "    m=0\n",
    "    p=math.ceil(len_b/2)\n",
    "    for i in range(p):\n",
    "        temp_list1.append(b[i])\n",
    "        temp_list2.append(b[i+(len_b//2)])\n",
    "    temp_list2.reverse()\n",
    "    print(temp_list1,temp_list2)\n",
    "    for i in range(len(temp_list1)):\n",
    "        if(temp_list1[i]==temp_list2[i]):\n",
    "            m=m+1\n",
    "    if(m==len(temp_list1)):\n",
    "        print(\"Palindrome List\")\n",
    "    else:\n",
    "        print(\"Not a Palindrome List\")"
   ]
  },
  {
   "cell_type": "code",
   "execution_count": 106,
   "metadata": {},
   "outputs": [
    {
     "name": "stdout",
     "output_type": "stream",
     "text": [
      "[12, 44, 56] [12, 44, 56]\n",
      "Palindrome List\n"
     ]
    }
   ],
   "source": [
    "list_palin(b,len_b)"
   ]
  },
  {
   "cell_type": "code",
   "execution_count": 99,
   "metadata": {},
   "outputs": [],
   "source": [
    "#2. WAP to Demonstrate List and Tupple in Python\n",
    "#1. Using a For Loop WAP that print the Decimal Equivalent of 1/2 , 1/3, 1/4 _ _ _ _ _ n and Calculate the Sum of these.\n",
    "#3. WAP using a For Loop that loops over a Sequence\n",
    "#4. WAP using a While Loop that ask the user for a Number and Print a Countdown from that number to 0"
   ]
  },
  {
   "cell_type": "code",
   "execution_count": 119,
   "metadata": {},
   "outputs": [
    {
     "name": "stdout",
     "output_type": "stream",
     "text": [
      "List before Reversing :  [54, 34, 22, 11, 2, 78]\n"
     ]
    }
   ],
   "source": [
    "#Ques 6\n",
    "print(\"List before Reversing : \",a)\n",
    "def rev_list(a):\n",
    "    p=math.floor(len(a)/2)\n",
    "    for i in range(p):\n",
    "        a[i],a[len(a)-i-1]=a[len(a)-i-1],a[i]\n",
    "    print(\"List after Reversing : \",a)"
   ]
  },
  {
   "cell_type": "code",
   "execution_count": 120,
   "metadata": {},
   "outputs": [
    {
     "name": "stdout",
     "output_type": "stream",
     "text": [
      "List after Reversing :  [78, 2, 11, 22, 34, 54]\n"
     ]
    }
   ],
   "source": [
    "rev_list(a)"
   ]
  },
  {
   "cell_type": "code",
   "execution_count": 121,
   "metadata": {},
   "outputs": [
    {
     "name": "stdout",
     "output_type": "stream",
     "text": [
      "Enter Elements of List : 23 54 65 66 54 54 32 23 78 5\n"
     ]
    }
   ],
   "source": [
    "#Ques 7\n",
    "c=list(map(int,input(\"Enter Elements of List : \").split()))"
   ]
  },
  {
   "cell_type": "code",
   "execution_count": 129,
   "metadata": {},
   "outputs": [],
   "source": [
    "def rm_dup_list(c):\n",
    "    r=0\n",
    "    for i in range(len(c)-r-1):\n",
    "        count=0\n",
    "        for j in range(len(c)-r-1):\n",
    "            if(c[i]==c[j]):\n",
    "                count+=1\n",
    "                if(count>1):\n",
    "                    c.pop(i)\n",
    "                    r+=1\n",
    "    print(c)"
   ]
  },
  {
   "cell_type": "code",
   "execution_count": 130,
   "metadata": {},
   "outputs": [
    {
     "name": "stdout",
     "output_type": "stream",
     "text": [
      "[65, 66, 54, 32, 23, 78, 5]\n"
     ]
    }
   ],
   "source": [
    "rm_dup_list(c)"
   ]
  },
  {
   "cell_type": "code",
   "execution_count": null,
   "metadata": {},
   "outputs": [],
   "source": []
  }
 ],
 "metadata": {
  "kernelspec": {
   "display_name": "Python 3",
   "language": "python",
   "name": "python3"
  },
  "language_info": {
   "codemirror_mode": {
    "name": "ipython",
    "version": 3
   },
   "file_extension": ".py",
   "mimetype": "text/x-python",
   "name": "python",
   "nbconvert_exporter": "python",
   "pygments_lexer": "ipython3",
   "version": "3.7.4"
  }
 },
 "nbformat": 4,
 "nbformat_minor": 2
}
