{
 "cells": [
  {
   "cell_type": "code",
   "execution_count": null,
   "metadata": {},
   "outputs": [],
   "source": [
    "# def fibbo(no_of_terms):\n",
    "    sum_no=0\n",
    "    temp1=0\n",
    "    temp2=1\n",
    "    i=0\n",
    "    print(temp1,end=\" \")\n",
    "    while i<no_of_terms:\n",
    "        if(temp1<2):\n",
    "            temp1=temp1+1\n",
    "            print(temp1,end=\" \")\n",
    "        else:\n",
    "            sum_no=temp1+temp2\n",
    "            temp1=temp2\n",
    "            temp2=sum_no\n",
    "            print(sum_no,end=\" \")\n",
    "        i=i+1"
   ]
  },
  {
   "cell_type": "code",
   "execution_count": 42,
   "metadata": {},
   "outputs": [
    {
     "name": "stdout",
     "output_type": "stream",
     "text": [
      "Enter the Number of Terms : 9\n",
      "0 1 2 3 2 5 8 13 21 34 "
     ]
    }
   ],
   "source": [
    "no_of_terms=int(input(\"Enter the Number of Terms : \"))\n",
    "fibbo(no_of_terms)"
   ]
  },
  {
   "cell_type": "code",
   "execution_count": 49,
   "metadata": {},
   "outputs": [
    {
     "name": "stdout",
     "output_type": "stream",
     "text": [
      "0 1 1 2 3 5 8 13 21 "
     ]
    }
   ],
   "source": [
    "#WAP to print Fibonnacci series using Reccursion\n",
    "def fibbo(n):\n",
    "    if(n<2):\n",
    "        return n;\n",
    "    else:\n",
    "        return (fibbo(n-1)+fibbo(n-2));\n",
    "for i in range(no_of_terms):\n",
    "    print(fibbo(i),end=\" \")"
   ]
  },
  {
   "cell_type": "code",
   "execution_count": 54,
   "metadata": {},
   "outputs": [
    {
     "name": "stdout",
     "output_type": "stream",
     "text": [
      "Enter a Number : 3\n"
     ]
    },
    {
     "data": {
      "text/plain": [
       "27"
      ]
     },
     "execution_count": 54,
     "metadata": {},
     "output_type": "execute_result"
    }
   ],
   "source": [
    "x=int(input(\"Enter a Number : \"))\n",
    "z = lambda x: x**3\n",
    "z(x)"
   ]
  },
  {
   "cell_type": "code",
   "execution_count": 55,
   "metadata": {},
   "outputs": [
    {
     "name": "stdout",
     "output_type": "stream",
     "text": [
      "['C:\\\\Users\\\\avish\\\\Anaconda3\\\\lib\\\\site-packages\\\\ipykernel_launcher.py', '-f', 'C:\\\\Users\\\\avish\\\\AppData\\\\Roaming\\\\jupyter\\\\runtime\\\\kernel-bb5e0abf-d945-415f-ac77-f93fa3b76743.json']\n"
     ]
    }
   ],
   "source": [
    "import sys\n",
    "a=sys.argv\n",
    "print(a)"
   ]
  },
  {
   "cell_type": "code",
   "execution_count": 62,
   "metadata": {},
   "outputs": [],
   "source": [
    "str1=\"Hello World\""
   ]
  },
  {
   "cell_type": "code",
   "execution_count": 63,
   "metadata": {},
   "outputs": [
    {
     "data": {
      "text/plain": [
       "'HELLO WORLD'"
      ]
     },
     "execution_count": 63,
     "metadata": {},
     "output_type": "execute_result"
    }
   ],
   "source": [
    "str1.upper()"
   ]
  },
  {
   "cell_type": "code",
   "execution_count": 64,
   "metadata": {},
   "outputs": [
    {
     "data": {
      "text/plain": [
       "'Hello World'"
      ]
     },
     "execution_count": 64,
     "metadata": {},
     "output_type": "execute_result"
    }
   ],
   "source": [
    "str1.replace('h','H')"
   ]
  },
  {
   "cell_type": "code",
   "execution_count": 65,
   "metadata": {},
   "outputs": [
    {
     "data": {
      "text/plain": [
       "'HeLLo WorLd'"
      ]
     },
     "execution_count": 65,
     "metadata": {},
     "output_type": "execute_result"
    }
   ],
   "source": [
    "str1.replace('l','L')"
   ]
  },
  {
   "cell_type": "code",
   "execution_count": 66,
   "metadata": {},
   "outputs": [
    {
     "data": {
      "text/plain": [
       "'HeLlo World'"
      ]
     },
     "execution_count": 66,
     "metadata": {},
     "output_type": "execute_result"
    }
   ],
   "source": [
    "str1.replace('l','L',1)"
   ]
  },
  {
   "cell_type": "code",
   "execution_count": 80,
   "metadata": {},
   "outputs": [
    {
     "data": {
      "text/plain": [
       "2"
      ]
     },
     "execution_count": 80,
     "metadata": {},
     "output_type": "execute_result"
    }
   ],
   "source": [
    "str1.index('l')"
   ]
  },
  {
   "cell_type": "code",
   "execution_count": 81,
   "metadata": {},
   "outputs": [
    {
     "data": {
      "text/plain": [
       "10"
      ]
     },
     "execution_count": 81,
     "metadata": {},
     "output_type": "execute_result"
    }
   ],
   "source": [
    "str1.find('d')"
   ]
  },
  {
   "cell_type": "code",
   "execution_count": 82,
   "metadata": {},
   "outputs": [
    {
     "data": {
      "text/plain": [
       "-1"
      ]
     },
     "execution_count": 82,
     "metadata": {},
     "output_type": "execute_result"
    }
   ],
   "source": [
    "str1.find('a')"
   ]
  },
  {
   "cell_type": "code",
   "execution_count": 83,
   "metadata": {},
   "outputs": [
    {
     "ename": "ValueError",
     "evalue": "substring not found",
     "output_type": "error",
     "traceback": [
      "\u001b[1;31m---------------------------------------------------------------------------\u001b[0m",
      "\u001b[1;31mValueError\u001b[0m                                Traceback (most recent call last)",
      "\u001b[1;32m<ipython-input-83-0bc762cfff0c>\u001b[0m in \u001b[0;36m<module>\u001b[1;34m\u001b[0m\n\u001b[1;32m----> 1\u001b[1;33m \u001b[0mstr1\u001b[0m\u001b[1;33m.\u001b[0m\u001b[0mindex\u001b[0m\u001b[1;33m(\u001b[0m\u001b[1;34m'a'\u001b[0m\u001b[1;33m)\u001b[0m\u001b[1;33m\u001b[0m\u001b[1;33m\u001b[0m\u001b[0m\n\u001b[0m",
      "\u001b[1;31mValueError\u001b[0m: substring not found"
     ]
    }
   ],
   "source": [
    "str1.index('a')"
   ]
  },
  {
   "cell_type": "code",
   "execution_count": 88,
   "metadata": {},
   "outputs": [],
   "source": [
    "str1=\"Barry_Allen\"\n",
    "str2=\"Barry_Allen\""
   ]
  },
  {
   "cell_type": "code",
   "execution_count": 89,
   "metadata": {},
   "outputs": [
    {
     "data": {
      "text/plain": [
       "1985539784112"
      ]
     },
     "execution_count": 89,
     "metadata": {},
     "output_type": "execute_result"
    }
   ],
   "source": [
    "id(str1)"
   ]
  },
  {
   "cell_type": "code",
   "execution_count": 90,
   "metadata": {},
   "outputs": [
    {
     "data": {
      "text/plain": [
       "1985539784112"
      ]
     },
     "execution_count": 90,
     "metadata": {},
     "output_type": "execute_result"
    }
   ],
   "source": [
    "id(str2)"
   ]
  },
  {
   "cell_type": "code",
   "execution_count": 91,
   "metadata": {},
   "outputs": [],
   "source": [
    "# Take a String as a Input if Entered string exists in Already defined string then print string exist otherwise not\n",
    "# Write a function count_letter with two parameters words and letters and count number of occurance of that latter in the word\n",
    "# Write a func Change_Case which change case of all the letters \n",
    "# Write a func Count_Vowels with 1 Parameters i.e. words and count number of occurance of vowels and change each vowel with specific letter i.e x\n",
    "# Write a func Mirror_Text with 2 parameters (str1,str2) and display output in given form str1str1str2str2|str2str2str1str1"
   ]
  },
  {
   "cell_type": "code",
   "execution_count": 111,
   "metadata": {},
   "outputs": [],
   "source": [
    "str1=\" My name is Barry_Allen\"\n",
    "str2=\"And I am the Fastest Man Alive\""
   ]
  },
  {
   "cell_type": "code",
   "execution_count": 112,
   "metadata": {},
   "outputs": [
    {
     "name": "stdout",
     "output_type": "stream",
     "text": [
      "Enter a String : Barry_Allen\n"
     ]
    }
   ],
   "source": [
    "str3=input(\"Enter a String : \")"
   ]
  },
  {
   "cell_type": "code",
   "execution_count": 113,
   "metadata": {},
   "outputs": [
    {
     "name": "stdout",
     "output_type": "stream",
     "text": [
      "Barry_Allen\n",
      "1985538149168\n"
     ]
    }
   ],
   "source": [
    "if(str3 in str2 or str3 in str1):\n",
    "    print(str3)\n",
    "# print(id(str3))"
   ]
  },
  {
   "cell_type": "code",
   "execution_count": 115,
   "metadata": {},
   "outputs": [],
   "source": [
    "def Count_Letter(word,letter):\n",
    "    count=0\n",
    "    for i in range(len(word)):\n",
    "        if(letter==word[i]):\n",
    "            count=count+1\n",
    "    print(\"Count = \",count)"
   ]
  },
  {
   "cell_type": "code",
   "execution_count": 117,
   "metadata": {},
   "outputs": [
    {
     "name": "stdout",
     "output_type": "stream",
     "text": [
      "Enter a Word : Chirag Misra\n",
      "Enter a Letter : a\n",
      "Count =  2\n"
     ]
    }
   ],
   "source": [
    "word=input(\"Enter a Word : \")\n",
    "letter=input(\"Enter a Letter : \")\n",
    "Count_Letter(word,letter)"
   ]
  },
  {
   "cell_type": "code",
   "execution_count": 123,
   "metadata": {},
   "outputs": [],
   "source": [
    "def Change_Case():\n",
    "    simple_str=input(\"Enter a String : \")\n",
    "    changed_str=simple_str.swapcase()\n",
    "    print(changed_str)"
   ]
  },
  {
   "cell_type": "code",
   "execution_count": 124,
   "metadata": {},
   "outputs": [
    {
     "name": "stdout",
     "output_type": "stream",
     "text": [
      "Enter a String : ChIrAg MiSrA\n",
      "cHiRaG mIsRa\n"
     ]
    }
   ],
   "source": [
    "Change_Case()"
   ]
  },
  {
   "cell_type": "code",
   "execution_count": 142,
   "metadata": {},
   "outputs": [],
   "source": [
    "def Count_Vowels(word):\n",
    "    a,e,i,o,u=0,0,0,0,0\n",
    "    word=input(\"Enter a Word : \")\n",
    "    for j in range(len(word)):\n",
    "        if(word[j]=='a' or word[j]=='A'):\n",
    "            a=a+1\n",
    "        elif(word[j]=='e' or word[j]=='E'):\n",
    "            e=e+1\n",
    "        elif(word[j]=='i' or word[j]=='I'):\n",
    "            i=i+1\n",
    "        elif(word[j]=='o' or word[j]=='O'):\n",
    "            o=o+1\n",
    "        elif(word[j]=='u' or word[j]=='U'):\n",
    "            u=u+1\n",
    "    print(\"Occurance of Vowels:\\n a = {} e = {} i= {} o = {} u = {}\".format(a,e,i,o,u))"
   ]
  },
  {
   "cell_type": "code",
   "execution_count": 143,
   "metadata": {},
   "outputs": [
    {
     "name": "stdout",
     "output_type": "stream",
     "text": [
      "Enter a Word : My Name is Barry Allen and I am the Fastest Man Alive\n",
      "Occurance of Vowels:\n",
      " a = 8 e = 5 i= 3 o = 0 u = 0\n"
     ]
    }
   ],
   "source": [
    "Count_Vowels(word)"
   ]
  },
  {
   "cell_type": "code",
   "execution_count": 145,
   "metadata": {},
   "outputs": [],
   "source": [
    "def Mirror_Text(str1,str2):\n",
    "    print(str1,str1,str2,str2,end=\"\")\n",
    "    str1=str1[::-1]\n",
    "    str2=str2[::-1]\n",
    "    print(str2,str2,str1,str1)"
   ]
  },
  {
   "cell_type": "code",
   "execution_count": 149,
   "metadata": {},
   "outputs": [
    {
     "name": "stdout",
     "output_type": "stream",
     "text": [
      "Enter String 1 : Hello\n",
      "Enter String 2 : Byeee\n"
     ]
    }
   ],
   "source": [
    "str1=input(\"Enter String 1 : \")\n",
    "str2=input(\"Enter String 2 : \")"
   ]
  },
  {
   "cell_type": "code",
   "execution_count": 150,
   "metadata": {},
   "outputs": [
    {
     "name": "stdout",
     "output_type": "stream",
     "text": [
      "Hello Hello Byeee ByeeeeeeyB eeeyB olleH olleH\n"
     ]
    }
   ],
   "source": [
    "Mirror_Text(str1,str2)"
   ]
  },
  {
   "cell_type": "code",
   "execution_count": null,
   "metadata": {},
   "outputs": [],
   "source": []
  }
 ],
 "metadata": {
  "kernelspec": {
   "display_name": "Python 3",
   "language": "python",
   "name": "python3"
  },
  "language_info": {
   "codemirror_mode": {
    "name": "ipython",
    "version": 3
   },
   "file_extension": ".py",
   "mimetype": "text/x-python",
   "name": "python",
   "nbconvert_exporter": "python",
   "pygments_lexer": "ipython3",
   "version": "3.7.5"
  }
 },
 "nbformat": 4,
 "nbformat_minor": 2
}
