{
 "cells": [
  {
   "cell_type": "code",
   "execution_count": 1,
   "metadata": {},
   "outputs": [
    {
     "name": "stdout",
     "output_type": "stream",
     "text": [
      "1\n",
      "4575871102376543\n"
     ]
    },
    {
     "ename": "TypeError",
     "evalue": "'int' object is not subscriptable",
     "output_type": "error",
     "traceback": [
      "\u001b[1;31m---------------------------------------------------------------------------\u001b[0m",
      "\u001b[1;31mTypeError\u001b[0m                                 Traceback (most recent call last)",
      "\u001b[1;32m<ipython-input-1-b7d29608be00>\u001b[0m in \u001b[0;36m<module>\u001b[1;34m\u001b[0m\n\u001b[0;32m      2\u001b[0m \u001b[1;32mfor\u001b[0m \u001b[0mi\u001b[0m \u001b[1;32min\u001b[0m \u001b[0mrange\u001b[0m\u001b[1;33m(\u001b[0m\u001b[0mn\u001b[0m\u001b[1;33m)\u001b[0m\u001b[1;33m:\u001b[0m\u001b[1;33m\u001b[0m\u001b[1;33m\u001b[0m\u001b[0m\n\u001b[0;32m      3\u001b[0m     \u001b[0mcard_no\u001b[0m\u001b[1;33m=\u001b[0m\u001b[0mint\u001b[0m\u001b[1;33m(\u001b[0m\u001b[0minput\u001b[0m\u001b[1;33m(\u001b[0m\u001b[1;33m)\u001b[0m\u001b[1;33m)\u001b[0m\u001b[1;33m\u001b[0m\u001b[1;33m\u001b[0m\u001b[0m\n\u001b[1;32m----> 4\u001b[1;33m     \u001b[1;32mif\u001b[0m\u001b[1;33m(\u001b[0m\u001b[0mcard_no\u001b[0m\u001b[1;33m[\u001b[0m\u001b[1;36m0\u001b[0m\u001b[1;33m]\u001b[0m\u001b[1;33m==\u001b[0m\u001b[1;36m4\u001b[0m\u001b[1;33m,\u001b[0m\u001b[1;36m5\u001b[0m\u001b[1;33m,\u001b[0m\u001b[1;36m6\u001b[0m \u001b[1;32mand\u001b[0m \u001b[0mlen\u001b[0m\u001b[1;33m(\u001b[0m\u001b[0mcard_no\u001b[0m\u001b[1;33m)\u001b[0m\u001b[1;33m==\u001b[0m\u001b[1;36m16\u001b[0m\u001b[1;33m)\u001b[0m\u001b[1;33m:\u001b[0m\u001b[1;33m\u001b[0m\u001b[1;33m\u001b[0m\u001b[0m\n\u001b[0m\u001b[0;32m      5\u001b[0m         \u001b[0mprint\u001b[0m\u001b[1;33m(\u001b[0m\u001b[0mcard_no\u001b[0m\u001b[1;33m)\u001b[0m\u001b[1;33m\u001b[0m\u001b[1;33m\u001b[0m\u001b[0m\n",
      "\u001b[1;31mTypeError\u001b[0m: 'int' object is not subscriptable"
     ]
    }
   ],
   "source": [
    "n = int(input())\n",
    "for i in range(n):\n",
    "    card_no=int(input())\n",
    "    if(card_no[0]==4,5,6 and len(card_no)==16):\n",
    "        print(card_no)"
   ]
  },
  {
   "cell_type": "code",
   "execution_count": 4,
   "metadata": {},
   "outputs": [
    {
     "name": "stdout",
     "output_type": "stream",
     "text": [
      "4\n",
      "4575778909897769\n",
      "565543167890987\n",
      "5643-5564-2315-7765\n",
      "665577776543234567\n",
      "Valid\n",
      "Invalid\n",
      "Valid\n",
      "Invalid\n"
     ]
    }
   ],
   "source": [
    "total_count = int(input())\n",
    "numbers_list = []\n",
    "start_list = [4,5,6]\n",
    "\n",
    "for count in range(total_count):\n",
    "    numbers_list.append(input())\n",
    "\n",
    "def val_start(num):\n",
    "    if int(num[0]) in start_list:\n",
    "        return True\n",
    "    else:\n",
    "        return False\n",
    "\n",
    "def val_group(num):\n",
    "    for val in num.split(\"-\"):\n",
    "        if len(val) != 4:\n",
    "            return False \n",
    "    return True\n",
    "\n",
    "def val_len(num):\n",
    "    check = num\n",
    "    check2 = True\n",
    "    if \"-\" in num:\n",
    "        check = \"\".join(num.split(\"-\"))\n",
    "        check2 = val_group(num)\n",
    "\n",
    "    if ((len(check) == 16) and check2):\n",
    "        return True\n",
    "    else:\n",
    "        return False\n",
    "\n",
    "def val_isdigit(num):\n",
    "    if not num.isdigit():\n",
    "        for ch in num:\n",
    "            if not (ch.isdigit() | (ch == \"-\")):\n",
    "                return False\n",
    "    return True\n",
    "\n",
    "def val_rep(num):\n",
    "    res = \"\".join(num.split(\"-\"))\n",
    "    for i in range(len(res)):\n",
    "        try:\n",
    "            if (res[i] == res[i+1]):\n",
    "                if (res[i+1] == res[i+2]):\n",
    "                    if (res[i+2] == res[i+3]):\n",
    "                        return False\n",
    "        except IndexError:\n",
    "           pass\n",
    "    return True\n",
    "\n",
    "for num in numbers_list:\n",
    "    result = [val_start(num), val_len(num),val_isdigit(num), val_rep(num)]\n",
    "    if False in result:\n",
    "        print(\"Invalid\")\n",
    "    else:\n",
    "        print(\"Valid\")"
   ]
  },
  {
   "cell_type": "code",
   "execution_count": null,
   "metadata": {},
   "outputs": [],
   "source": []
  }
 ],
 "metadata": {
  "kernelspec": {
   "display_name": "Python 3",
   "language": "python",
   "name": "python3"
  },
  "language_info": {
   "codemirror_mode": {
    "name": "ipython",
    "version": 3
   },
   "file_extension": ".py",
   "mimetype": "text/x-python",
   "name": "python",
   "nbconvert_exporter": "python",
   "pygments_lexer": "ipython3",
   "version": "3.7.3"
  }
 },
 "nbformat": 4,
 "nbformat_minor": 2
}
