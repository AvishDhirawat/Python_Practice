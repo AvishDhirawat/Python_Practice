{
 "cells": [
  {
   "cell_type": "markdown",
   "metadata": {},
   "source": [
    "# Check that the String is pangram or not"
   ]
  },
  {
   "cell_type": "code",
   "execution_count": 14,
   "metadata": {},
   "outputs": [],
   "source": [
    "#Author:- Avish Dhirawat\n",
    "def pangram_check(input_string): \n",
    "    alphabets = \"abcdefghijklmnopqrstuvwxyz\"\n",
    "    for i in alphabets: \n",
    "        if i not in input_string.lower(): \n",
    "            return False\n",
    "    return True"
   ]
  },
  {
   "cell_type": "code",
   "execution_count": 26,
   "metadata": {},
   "outputs": [
    {
     "name": "stdout",
     "output_type": "stream",
     "text": [
      "Enter a String to be checked : My name is Barry Allen writing xerox copy for zeus king go to jail vs queen duh\n",
      "Yes it is a Panagram String\n"
     ]
    }
   ],
   "source": [
    "input_string = input(\"Enter a String to be checked : \")\n",
    "if(pangram_check(input_string) == True): \n",
    "    print(\"Yes it is a Panagram String\") \n",
    "else: \n",
    "    print(\"No it is not a Panagram String\") "
   ]
  },
  {
   "cell_type": "code",
   "execution_count": null,
   "metadata": {},
   "outputs": [],
   "source": []
  }
 ],
 "metadata": {
  "kernelspec": {
   "display_name": "Python 3",
   "language": "python",
   "name": "python3"
  },
  "language_info": {
   "codemirror_mode": {
    "name": "ipython",
    "version": 3
   },
   "file_extension": ".py",
   "mimetype": "text/x-python",
   "name": "python",
   "nbconvert_exporter": "python",
   "pygments_lexer": "ipython3",
   "version": "3.7.7"
  }
 },
 "nbformat": 4,
 "nbformat_minor": 4
}
