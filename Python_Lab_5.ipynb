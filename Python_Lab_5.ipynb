{
 "cells": [
  {
   "cell_type": "code",
   "execution_count": 1,
   "metadata": {},
   "outputs": [],
   "source": [
    "t1=(1,2,4,5,3)"
   ]
  },
  {
   "cell_type": "code",
   "execution_count": 5,
   "metadata": {},
   "outputs": [],
   "source": [
    "t2=(2,)"
   ]
  },
  {
   "cell_type": "code",
   "execution_count": 6,
   "metadata": {},
   "outputs": [
    {
     "data": {
      "text/plain": [
       "tuple"
      ]
     },
     "execution_count": 6,
     "metadata": {},
     "output_type": "execute_result"
    }
   ],
   "source": [
    "type(t2)"
   ]
  },
  {
   "cell_type": "code",
   "execution_count": 14,
   "metadata": {},
   "outputs": [],
   "source": [
    "t2=tuple(\"Hello\")"
   ]
  },
  {
   "cell_type": "code",
   "execution_count": 15,
   "metadata": {},
   "outputs": [
    {
     "name": "stdout",
     "output_type": "stream",
     "text": [
      "('H', 'e', 'l', 'l', 'o')\n"
     ]
    }
   ],
   "source": [
    "type(t2)\n",
    "print(t2)"
   ]
  },
  {
   "cell_type": "code",
   "execution_count": 16,
   "metadata": {},
   "outputs": [],
   "source": [
    "#WAP to sort tuple Elements"
   ]
  },
  {
   "cell_type": "code",
   "execution_count": 27,
   "metadata": {},
   "outputs": [
    {
     "name": "stdout",
     "output_type": "stream",
     "text": [
      "(1, 5, 12, 32, 44, 45, 76, 89)\n"
     ]
    }
   ],
   "source": [
    "t3=(5,89,45,32,12,44,76,1)\n",
    "t3=tuple(sorted(t3))\n",
    "print(t3)"
   ]
  },
  {
   "cell_type": "code",
   "execution_count": 30,
   "metadata": {},
   "outputs": [
    {
     "name": "stdout",
     "output_type": "stream",
     "text": [
      "[(1, 2), (2, 3), (3, 4)]\n"
     ]
    }
   ],
   "source": [
    "#ZIP Function and Inverse ZIP Function\n",
    "l1=[1,2,3]\n",
    "l2=[2,3,4]\n",
    "l3=list(zip(l1,l2))\n",
    "print(l3)"
   ]
  },
  {
   "cell_type": "code",
   "execution_count": 35,
   "metadata": {},
   "outputs": [
    {
     "data": {
      "text/plain": [
       "[(1, 2, 3), (2, 3, 4)]"
      ]
     },
     "execution_count": 35,
     "metadata": {},
     "output_type": "execute_result"
    }
   ],
   "source": [
    "list(zip(*l3))"
   ]
  },
  {
   "cell_type": "code",
   "execution_count": 41,
   "metadata": {},
   "outputs": [],
   "source": [
    "#WAP to display a list of countries with their Capitals using ZIP function where there are two lists 1st list for countries and 2nd list is Capitals.\n",
    "#WAP to Transpose a given matrix M=[(2,3),(4,5),(6,7)] using inverse ZIP function.\n",
    "#WAP to Create a function sum_all to accept a variable number of arguments and display the sum of all elements present in it."
   ]
  },
  {
   "cell_type": "code",
   "execution_count": 42,
   "metadata": {},
   "outputs": [
    {
     "data": {
      "text/plain": [
       "[('India', 'New Delhi'),\n",
       " ('USA', 'Washington DC'),\n",
       " ('Uganda', 'Kampala'),\n",
       " ('Australia', 'Canberra'),\n",
       " ('Japan', 'Tokyo'),\n",
       " ('China', 'Beijing'),\n",
       " ('UAE', 'Abu Dhabi')]"
      ]
     },
     "execution_count": 42,
     "metadata": {},
     "output_type": "execute_result"
    }
   ],
   "source": [
    "#Prog 1\n",
    "country_name=['India','USA','Uganda','Australia','Japan','China','UAE']\n",
    "capital_name=['New Delhi','Washington DC','Kampala','Canberra','Tokyo','Beijing','Abu Dhabi']\n",
    "list(zip(country_name,capital_name))"
   ]
  },
  {
   "cell_type": "code",
   "execution_count": 46,
   "metadata": {},
   "outputs": [
    {
     "data": {
      "text/plain": [
       "[(2, 4, 6), (3, 5, 7)]"
      ]
     },
     "execution_count": 46,
     "metadata": {},
     "output_type": "execute_result"
    }
   ],
   "source": [
    "#Prog 2\n",
    "M=[(2,3),(4,5),(6,7)]\n",
    "list(zip(*M))\n",
    "# M=list(zip(*M))"
   ]
  },
  {
   "cell_type": "code",
   "execution_count": 70,
   "metadata": {},
   "outputs": [],
   "source": [
    "#Prog 3\n",
    "def sum_all(tup):\n",
    "    sum_tup=0\n",
    "    for i in range(len(tup)):\n",
    "        sum_tup+=tup[i]\n",
    "    print(\"Sum of Elements of Tuple : \",sum_tup)"
   ]
  },
  {
   "cell_type": "code",
   "execution_count": 71,
   "metadata": {},
   "outputs": [
    {
     "name": "stdout",
     "output_type": "stream",
     "text": [
      "Sum of Elements of Tuple :  195\n"
     ]
    }
   ],
   "source": [
    "tup2=(2,54,7,64,1,43,19,5)\n",
    "sum_all(tup2)"
   ]
  },
  {
   "cell_type": "code",
   "execution_count": 83,
   "metadata": {},
   "outputs": [
    {
     "name": "stdout",
     "output_type": "stream",
     "text": [
      "Enter the Elements of Tuple : 23,54,67,78,98\n",
      "Sum of Elements of Tuple :  320\n"
     ]
    }
   ],
   "source": [
    "tup1=tuple(map(int,input('Enter the Elements of Tuple : ').split(',')))\n",
    "# tup1=tuple(tup1)\n",
    "sum_all(tup1)"
   ]
  },
  {
   "cell_type": "code",
   "execution_count": 84,
   "metadata": {},
   "outputs": [],
   "source": [
    "#Create a list of tuple from given list having number and its cube.\n",
    "#WAP to sort a list of tuple by second element.\n",
    "#WAP to sort a list of tuple by specific order.\n",
    "#WAP to find mismatch element on same index in two tuples."
   ]
  },
  {
   "cell_type": "code",
   "execution_count": 100,
   "metadata": {},
   "outputs": [
    {
     "name": "stdout",
     "output_type": "stream",
     "text": [
      "Enter the list elements : 2 5 9 1 4\n",
      "[(2, 8), (5, 125), (9, 729), (1, 1), (4, 64)]\n"
     ]
    }
   ],
   "source": [
    "#Prog 1\n",
    "list_1=list(map(int,input(\"Enter the list elements : \").split()))\n",
    "list_2=[]\n",
    "for i in range(len(list_1)):\n",
    "    list_2.append(list_1[i]**3)\n",
    "list_3=list(zip(list_1,list_2))\n",
    "print(list_3)"
   ]
  },
  {
   "cell_type": "code",
   "execution_count": 101,
   "metadata": {},
   "outputs": [
    {
     "name": "stdout",
     "output_type": "stream",
     "text": [
      "Enter the Str type inputs for Tuple : awa dwd cwc bwb\n",
      "Enter the Int type inputs for Tuple : 12 6 45 3\n",
      "[('awa', 12), ('dwd', 6), ('cwc', 45), ('bwb', 3)]\n"
     ]
    }
   ],
   "source": [
    "#Prog 2\n",
    "tup_1=tuple(map(str,input(\"Enter the Str type inputs for Tuple : \").split()))\n",
    "tup_2=tuple(map(int,input(\"Enter the Int type inputs for Tuple : \").split()))\n",
    "tup_3=list(zip(tup_1,tup_2))\n",
    "print(tup_3)"
   ]
  },
  {
   "cell_type": "code",
   "execution_count": 102,
   "metadata": {},
   "outputs": [
    {
     "data": {
      "text/plain": [
       "[('bwb', 3), ('dwd', 6), ('awa', 12), ('cwc', 45)]"
      ]
     },
     "execution_count": 102,
     "metadata": {},
     "output_type": "execute_result"
    }
   ],
   "source": [
    "tup_3.sort(key=lambda x : x[1])\n",
    "tup_3"
   ]
  },
  {
   "cell_type": "code",
   "execution_count": null,
   "metadata": {},
   "outputs": [],
   "source": [
    "#Prog 3\n"
   ]
  }
 ],
 "metadata": {
  "kernelspec": {
   "display_name": "Python 3",
   "language": "python",
   "name": "python3"
  },
  "language_info": {
   "codemirror_mode": {
    "name": "ipython",
    "version": 3
   },
   "file_extension": ".py",
   "mimetype": "text/x-python",
   "name": "python",
   "nbconvert_exporter": "python",
   "pygments_lexer": "ipython3",
   "version": "3.7.4"
  }
 },
 "nbformat": 4,
 "nbformat_minor": 2
}
