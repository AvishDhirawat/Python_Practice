{
 "cells": [
  {
   "cell_type": "code",
   "execution_count": 1,
   "metadata": {},
   "outputs": [],
   "source": [
    "# BMI Calculator\n",
    "name1 = \"SID\"\n",
    "height1 = 1.9\n",
    "weight1 = 100\n",
    "name2 = \"SID's Sister\"\n",
    "height2 = 1.5\n",
    "weight2 = 50\n",
    "name3 = \"SID's Brother\"\n",
    "height3 = 1.7\n",
    "weight3 = 70"
   ]
  },
  {
   "cell_type": "code",
   "execution_count": 8,
   "metadata": {},
   "outputs": [],
   "source": [
    "def bmi_calculator(name, height, weight):\n",
    "    bmi = weight / (height**2)\n",
    "    print(\"BMI : \")\n",
    "    print(bmi)\n",
    "    if bmi < 25 :\n",
    "        return name + \" is Not Overweighed\"\n",
    "    else:\n",
    "        return name + \" is Overweighed\""
   ]
  },
  {
   "cell_type": "code",
   "execution_count": 9,
   "metadata": {},
   "outputs": [
    {
     "name": "stdout",
     "output_type": "stream",
     "text": [
      "BMI : \n",
      "27.70083102493075\n",
      "BMI : \n",
      "22.22222222222222\n",
      "BMI : \n",
      "24.221453287197235\n"
     ]
    }
   ],
   "source": [
    "result1 = bmi_calculator(name1, height1, weight1)\n",
    "result2 = bmi_calculator(name2, height2, weight2)\n",
    "result3 = bmi_calculator(name3, height3, weight3)\n"
   ]
  },
  {
   "cell_type": "code",
   "execution_count": 10,
   "metadata": {},
   "outputs": [
    {
     "name": "stdout",
     "output_type": "stream",
     "text": [
      "SID is Overweighed\n",
      "SID's Sister is Not Overweighed\n",
      "SID's Brother is Not Overweighed\n"
     ]
    }
   ],
   "source": [
    "print(result1)\n",
    "print(result2)\n",
    "print(result3)"
   ]
  },
  {
   "cell_type": "code",
   "execution_count": 11,
   "metadata": {},
   "outputs": [],
   "source": [
    "def convert(miles):\n",
    "    return miles*1.6\n",
    "#km = 1.6 * miles\n"
   ]
  },
  {
   "cell_type": "code",
   "execution_count": 14,
   "metadata": {},
   "outputs": [
    {
     "name": "stdout",
     "output_type": "stream",
     "text": [
      "8.0\n",
      "kilometer\n"
     ]
    }
   ],
   "source": [
    "km = convert(5)\n",
    "print(km)\n",
    "print( \"kilometer\")"
   ]
  },
  {
   "cell_type": "code",
   "execution_count": null,
   "metadata": {},
   "outputs": [],
   "source": []
  }
 ],
 "metadata": {
  "kernelspec": {
   "display_name": "Python 3",
   "language": "python",
   "name": "python3"
  },
  "language_info": {
   "codemirror_mode": {
    "name": "ipython",
    "version": 3
   },
   "file_extension": ".py",
   "mimetype": "text/x-python",
   "name": "python",
   "nbconvert_exporter": "python",
   "pygments_lexer": "ipython3",
   "version": "3.6.5"
  }
 },
 "nbformat": 4,
 "nbformat_minor": 2
}
